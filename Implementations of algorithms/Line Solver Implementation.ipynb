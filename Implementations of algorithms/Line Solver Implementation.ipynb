{
 "cells": [
  {
   "metadata": {},
   "cell_type": "markdown",
   "source": "# Line Solver Algorithm\n",
   "id": "8a77807f92f26ee"
  },
  {
   "metadata": {
    "ExecuteTime": {
     "end_time": "2024-12-07T14:44:59.715338Z",
     "start_time": "2024-12-07T14:44:59.712655Z"
    }
   },
   "cell_type": "code",
   "source": [
    "import re\n",
    "from itertools import product"
   ],
   "id": "bc746c6847c58e5a",
   "outputs": [],
   "execution_count": 5
  },
  {
   "metadata": {
    "ExecuteTime": {
     "end_time": "2024-12-07T14:45:00.138175Z",
     "start_time": "2024-12-07T14:45:00.135647Z"
    }
   },
   "cell_type": "code",
   "source": [
    "def clue_to_regex(clue):\n",
    "    \"\"\"\n",
    "    Convert the clue to a regular expression pattern.\n",
    "    Each block in the clue must have '1' repeated block_size times\n",
    "    and separated by at least one '0', except at boundaries.\n",
    "    \"\"\"\n",
    "    parts = [f\"1{{{c}}}\" for c in clue]  # Convert each block into a '1' repeated `c` times\n",
    "    # Join the parts with '0+' to allow for flexible spacing between blocks\n",
    "    pattern = \"0+\".join(parts)\n",
    "    # Allow leading and trailing zeros\n",
    "    return f\"^0*{pattern}0*$\"\n",
    "\n",
    "def generate_line_domains(length, clue):\n",
    "    \"\"\"\n",
    "    Generate all valid binary sequences of a given length based on a row or column clue.\n",
    "    Uses a regular expression to filter out invalid patterns.\n",
    "    \"\"\"\n",
    "    # Convert the clue to a regular expression\n",
    "    regex = clue_to_regex(clue)\n",
    "    # Generate all possible binary sequences of the given length\n",
    "    all_sequences = [''.join(seq) for seq in product(\"01\", repeat=length)]\n",
    "    # Filter sequences that match the regex\n",
    "    valid_sequences = [list(map(int, seq)) for seq in all_sequences if re.fullmatch(regex, seq)]\n",
    "    return valid_sequences"
   ],
   "id": "5b33533cac1d638",
   "outputs": [],
   "execution_count": 6
  },
  {
   "metadata": {
    "ExecuteTime": {
     "end_time": "2024-12-07T14:45:00.527653Z",
     "start_time": "2024-12-07T14:45:00.524297Z"
    }
   },
   "cell_type": "code",
   "source": [
    "def choose_line_heuristic(row_domains, col_domains, assigned, stalled_lines):\n",
    "    min_domain_size = float('inf')\n",
    "    max_unsolved_cells = -1\n",
    "    chosen_line_type = None\n",
    "    chosen_index = None\n",
    "\n",
    "    # Check rows\n",
    "    for idx, domain in enumerate(row_domains):\n",
    "        line_id = f\"row_{idx}\"\n",
    "        if line_id not in assigned and line_id not in stalled_lines:\n",
    "            unsolved_cells = sum(1 for valid_row in domain if len(valid_row) > 1)\n",
    "            if len(domain) < min_domain_size or (\n",
    "                len(domain) == min_domain_size and unsolved_cells > max_unsolved_cells\n",
    "            ):\n",
    "                min_domain_size = len(domain)\n",
    "                max_unsolved_cells = unsolved_cells\n",
    "                chosen_line_type = \"row\"\n",
    "                chosen_index = idx\n",
    "\n",
    "    # Check columns\n",
    "    for idx, domain in enumerate(col_domains):\n",
    "        line_id = f\"col_{idx}\"\n",
    "        if line_id not in assigned and line_id not in stalled_lines:\n",
    "            unsolved_cells = sum(1 for valid_col in domain if len(valid_col) > 1)\n",
    "            if len(domain) < min_domain_size or (\n",
    "                len(domain) == min_domain_size and unsolved_cells > max_unsolved_cells\n",
    "            ):\n",
    "                min_domain_size = len(domain)\n",
    "                max_unsolved_cells = unsolved_cells\n",
    "                chosen_line_type = \"col\"\n",
    "                chosen_index = idx\n",
    "\n",
    "    # If no line is found, return None to signal no viable options\n",
    "    if chosen_line_type is None:\n",
    "        return None, None, None\n",
    "\n",
    "    return chosen_index, (\n",
    "        row_domains[chosen_index] if chosen_line_type == \"row\" else col_domains[chosen_index]\n",
    "    ), chosen_line_type\n",
    "\n"
   ],
   "id": "47fe8f91e5048a36",
   "outputs": [],
   "execution_count": 7
  },
  {
   "metadata": {
    "ExecuteTime": {
     "end_time": "2024-12-07T14:45:00.979180Z",
     "start_time": "2024-12-07T14:45:00.964634Z"
    }
   },
   "cell_type": "code",
   "source": [
    "def solve_nonogram_no_backtracking(grid_size, row_clues, col_clues):\n",
    "    \"\"\"\n",
    "    Solve the nonogram puzzle based on row and column clues without backtracking.\n",
    "    If no unique solution is found, report it.\n",
    "    \"\"\"\n",
    "    num_rows, num_cols = grid_size\n",
    "    grid = [[set([0, 1]) for _ in range(num_cols)] for _ in range(num_rows)]\n",
    "    \n",
    "    # Precompute valid row and column domains\n",
    "    row_domains = [generate_line_domains(num_cols, clue) for clue in row_clues]\n",
    "    col_domains = [generate_line_domains(num_rows, clue) for clue in col_clues]\n",
    "    \n",
    "    # Enforce arc consistency\n",
    "    while enforce_arc_consistency(grid, row_domains, col_domains):\n",
    "        pass\n",
    "    \n",
    "    # Check if the grid has a unique solution\n",
    "    unsolved_cells = any(len(cell) > 1 for row in grid for cell in row)\n",
    "    if unsolved_cells:\n",
    "        print(\"No unique solution found.\")\n",
    "        return None  # Return None to indicate no solution was found\n",
    "\n",
    "    # Convert the grid to the final solved grid (if possible)\n",
    "    solved_grid = []\n",
    "    for row in grid:\n",
    "        solved_grid.append([list(cell)[0] for cell in row])  # Take the single value from each set\n",
    "    \n",
    "    return solved_grid\n",
    "\n",
    "\n",
    "def enforce_arc_consistency(grid, row_domains, col_domains):\n",
    "    assigned = set()  # Track lines already processed\n",
    "    stalled_lines = set()  # Track lines that didn't lead to progress\n",
    "    revised = False\n",
    "    while True:\n",
    "        chosen_index, chosen_domain, chosen_line_type = choose_line_heuristic(\n",
    "            row_domains, col_domains, assigned, stalled_lines\n",
    "        )\n",
    "        \n",
    "        if chosen_index is None:  # No more lines to process\n",
    "            break\n",
    "\n",
    "        if chosen_line_type == \"row\":\n",
    "            row_idx = chosen_index\n",
    "            for col_idx, cell in enumerate(grid[row_idx]):\n",
    "                valid_values = {valid_row[col_idx] for valid_row in chosen_domain}\n",
    "                original_domain = cell.copy()\n",
    "                cell.intersection_update(valid_values)\n",
    "\n",
    "                if cell != original_domain:\n",
    "                    revised = True\n",
    "                    stalled_lines.clear()  # Clear stalled lines since progress was made\n",
    "                    # Update column domains\n",
    "                    col_domains[col_idx] = [\n",
    "                        valid_col for valid_col in col_domains[col_idx]\n",
    "                        if valid_col[row_idx] in cell\n",
    "                    ]\n",
    "            assigned.add(f\"row_{row_idx}\")\n",
    "\n",
    "        else:  # chosen_line_type == \"col\"\n",
    "            col_idx = chosen_index\n",
    "            for row_idx in range(len(grid)):\n",
    "                cell = grid[row_idx][col_idx]\n",
    "                valid_values = {valid_col[row_idx] for valid_col in chosen_domain}\n",
    "                original_domain = cell.copy()\n",
    "                cell.intersection_update(valid_values)\n",
    "\n",
    "                if cell != original_domain:\n",
    "                    revised = True\n",
    "                    stalled_lines.clear()  # Clear stalled lines since progress was made\n",
    "                    # Update row domains\n",
    "                    row_domains[row_idx] = [\n",
    "                        valid_row for valid_row in row_domains[row_idx]\n",
    "                        if valid_row[col_idx] in cell\n",
    "                    ]\n",
    "            assigned.add(f\"col_{col_idx}\")\n",
    "\n",
    "        # If no progress was made, mark the line as stalled\n",
    "        if not revised:\n",
    "            stalled_lines.add(f\"{chosen_line_type}_{chosen_index}\")\n",
    "\n",
    "    return revised\n",
    "\n",
    "\n",
    "\n",
    "def draw(solution):\n",
    "    if solution:    \n",
    "        for row in solution:\n",
    "            print(''.join('#' if cell == 1 else '.' for cell in row))\n",
    "            \n",
    "# Example Usage\n",
    "# row_clues = [[1], [2], [5], [2], [1]]\n",
    "# \n",
    "# col_clues = [[1], [2, 1], [3], [1, 2], [1]]\n",
    "# \n",
    "# solution = solve_nonogram_no_backtracking((5, 5), row_clues, col_clues)\n",
    "\n",
    "# #works perfectly\n",
    "# \n",
    "# row_clues = [[2], [4], [6], [2], [8], [2], [10], [2], [2], [2]]\n",
    "# col_clues = [[1], [1,1], [1,1,1], [2,1,1], [10], [10], [2,1,1], [1,1,1], [1,1], [1]]\n",
    "# \n",
    "# solution = solve_nonogram_no_backtracking((10, 10), row_clues, col_clues)\n",
    "\n",
    "\n",
    "row_clues = [[3], [2,2], [5], [5], [3], [1], [1], [2], [1], [2]]\n",
    "col_clues = [[3], [5], [1,8], [5,1,1], [3]]  \n",
    "solution = solve_nonogram_no_backtracking((10, 5), row_clues, col_clues)\n",
    "\n",
    " #works perfectly\n",
    "\n",
    "draw(solution)"
   ],
   "id": "b8ef1c81e1774a2d",
   "outputs": [
    {
     "name": "stdout",
     "output_type": "stream",
     "text": [
      ".###.\n",
      "##.##\n",
      "#####\n",
      "#####\n",
      ".###.\n",
      "..#..\n",
      "..#..\n",
      "..##.\n",
      "..#..\n",
      "..##.\n"
     ]
    }
   ],
   "execution_count": 8
  },
  {
   "metadata": {},
   "cell_type": "markdown",
   "source": "Trying line solver algorithm on Ani's examples",
   "id": "3aa69c69ebbbf0d6"
  },
  {
   "metadata": {
    "ExecuteTime": {
     "end_time": "2024-12-07T14:45:07.991165Z",
     "start_time": "2024-12-07T14:45:03.085894Z"
    }
   },
   "cell_type": "code",
   "source": [
    "row_clues = [[4], [1, 1], [1, 1], [4, 4], [1, 1,1, 1],\n",
    "        [1, 2, 1, 2], [1, 1, 1, 1], [4, 4, 1], [1, 1, 1], [1, 1, 1],\n",
    "        [1, 1, 1, 2], [1, 1, 1, 1], [1, 1, 1, 1], [1, 1, 1, 1], [1, 1, 1, 1],\n",
    "                    [1, 1, 1, 1], [1, 2, 1], [1, 1], [1, 1], [6]]\n",
    "\n",
    "col_clues = [[5], [1, 1], [3, 1, 12], [1, 5, 1], [1, 6, 1], [1, 1, 1],\n",
    "        [1, 5, 1, 1], [3, 9, 1], [1, 1, 1, 1], [5, 9], [2], [2]]\n",
    "\n",
    "solution = solve_nonogram_no_backtracking((20, 12), row_clues, col_clues)\n",
    "\n",
    "for row in solution:\n",
    "    print(''.join('#' if cell == 1 else '.' for cell in row))"
   ],
   "id": "eebe59748bb8d3f5",
   "outputs": [
    {
     "name": "stdout",
     "output_type": "stream",
     "text": [
      "...####.....\n",
      "..#....#....\n",
      "..#....#....\n",
      "####..####..\n",
      "#..#..#..#..\n",
      "#.##..#.##..\n",
      "#..#..#..#..\n",
      "####..####.#\n",
      "..#....#...#\n",
      "..#....#..#.\n",
      "..#.#..#.##.\n",
      "..#.#..#.#..\n",
      "..#.#..#.#..\n",
      "..#.#..#.#..\n",
      "..#.#..#.#..\n",
      "..#.#..#.#..\n",
      "..#..##..#..\n",
      "..#......#..\n",
      "..#......#..\n",
      "...######...\n"
     ]
    }
   ],
   "execution_count": 9
  },
  {
   "metadata": {
    "ExecuteTime": {
     "end_time": "2024-12-04T12:53:27.255066Z",
     "start_time": "2024-12-04T12:53:27.253745Z"
    }
   },
   "cell_type": "code",
   "source": [
    "# THANKS\n",
    "# row_clues = [[0], [3,1,1,3,1,1,1,1,3], [1,1,1,1,1,1,1,1,1,1], [1,3,3,2,1,2,3], [1,1,1,1,1,1,2,1,1,1],\n",
    "#         [1,1,1,1,1,1,1,1,1,3], [0]]\n",
    "# \n",
    "# col_clues = [[1], [5], [1], [0], [5],\n",
    "#         [1], [5],[0], [5], [1, 1], [5], [0], [5], [1], [1], [5], [0], [5],\n",
    "#         [1], [2,2], [0], [3, 1], [1, 1, 1], [1,3]]\n",
    "\n",
    "# solution = solve_nonogram_no_backtracking((7, 24), row_clues, col_clues)\n",
    "# \n",
    "# for row in solution:\n",
    "#     print(''.join('#' if cell == 1 else '.' for cell in row))"
   ],
   "id": "7937742f9e7e970a",
   "outputs": [],
   "execution_count": 7
  },
  {
   "metadata": {
    "ExecuteTime": {
     "end_time": "2024-12-04T12:55:35.022177Z",
     "start_time": "2024-12-04T12:55:35.018265Z"
    }
   },
   "cell_type": "code",
   "source": [
    "row_clues = [[3, 2], [6], [1, 1]]\n",
    "\n",
    "col_clues = [[1], [3], [2], [3], [1], [2], [1]]\n",
    "\n",
    "solution = solve_nonogram_no_backtracking((3, 7), row_clues, col_clues)\n",
    "\n",
    "draw(solution)"
   ],
   "id": "bc17b21c5939c254",
   "outputs": [
    {
     "name": "stdout",
     "output_type": "stream",
     "text": [
      ".###.##\n",
      "######.\n",
      ".#.#...\n"
     ]
    }
   ],
   "execution_count": 37
  },
  {
   "metadata": {
    "ExecuteTime": {
     "end_time": "2024-12-04T12:53:53.641462Z",
     "start_time": "2024-12-04T12:53:53.638020Z"
    }
   },
   "cell_type": "code",
   "source": [
    "row_clues = [[1], [1]]\n",
    "\n",
    "col_clues = [[1], [1]]\n",
    "\n",
    "solution = solve_nonogram_no_backtracking((2,2), row_clues, col_clues)\n"
   ],
   "id": "6e8dcc3c06ef5806",
   "outputs": [
    {
     "name": "stdout",
     "output_type": "stream",
     "text": [
      "No unique solution found.\n"
     ]
    }
   ],
   "execution_count": 21
  },
  {
   "metadata": {
    "ExecuteTime": {
     "end_time": "2024-12-04T12:55:44.291450Z",
     "start_time": "2024-12-04T12:55:44.277315Z"
    }
   },
   "cell_type": "code",
   "source": [
    "row_clues = [[3], [2,2],[1,7], [3,2], [8], [3,1], [1,1,2], [1,1,1,2], [1,1,2,1], [4,2]  ]\n",
    "\n",
    "col_clues = [[3,3], [2,2,1], [1,3,1,1], [3,1,2], [3,1,1], [1,1,2], [1,1,2], [3,2], [6,1], [2,2]  ]\n",
    "\n",
    "solution = solve_nonogram_no_backtracking((10,10), row_clues, col_clues)\n",
    "draw(solution)"
   ],
   "id": "c168f53c93788d18",
   "outputs": [
    {
     "name": "stdout",
     "output_type": "stream",
     "text": [
      "###.......\n",
      "##......##\n",
      "#..#######\n",
      "..###..##.\n",
      ".########.\n",
      "###.....#.\n",
      "#..#...##.\n",
      "#.#.#.##..\n",
      ".#.#.##..#\n",
      "..####..##\n"
     ]
    }
   ],
   "execution_count": 38
  },
  {
   "metadata": {
    "ExecuteTime": {
     "end_time": "2024-12-04T12:55:47.598469Z",
     "start_time": "2024-12-04T12:55:47.220571Z"
    }
   },
   "cell_type": "code",
   "source": [
    "import time\n",
    "row_clues = [\n",
    "        [9], [1, 1, 1, 1, 1, 1], [2, 1, 1, 2], [1, 1, 1, 1, 1, 1, 1, 1], [1, 4, 4, 1],\n",
    "        [1, 5, 5, 1], [1, 1, 3, 3, 1, 1], [1, 2, 2, 1], [1, 1, 1, 1, 1], [1, 3, 3, 1],\n",
    "        [1, 11, 1], [1, 9, 1], [2, 7, 2], [1, 1, 1, 1, 1, 1], [9]\n",
    "    ]\n",
    "\n",
    "col_clues = [\n",
    "        [9], [1, 1], [6, 2, 2], [1, 2, 4, 1], [2, 4, 6], [1, 4, 3, 1], [4, 3, 5], [1, 1, 3, 1],\n",
    "        [4, 3, 5], [1, 4, 3, 1], [2, 4, 6], [1, 2, 4, 1], [6, 2, 2], [1, 1], [9]\n",
    "    ]\n",
    "m, n = len(row_clues), len(col_clues)\n",
    "grid_size = (m, n)\n",
    "\n",
    "start_time = time.time()\n",
    "solution = solve_nonogram_no_backtracking(grid_size, row_clues, col_clues)\n",
    "end_time = time.time()\n",
    "print(end_time - start_time)\n",
    "\n",
    "draw(solution)"
   ],
   "id": "c16bd9eea79e6a9d",
   "outputs": [
    {
     "name": "stdout",
     "output_type": "stream",
     "text": [
      "0.3713710308074951\n",
      "...#########...\n",
      "..#.#.#.#.#.#..\n",
      ".##...#.#...##.\n",
      "#.#.#.#.#.#.#.#\n",
      "#.####...####.#\n",
      "#.#####.#####.#\n",
      "#.#.###.###.#.#\n",
      "#....##.##....#\n",
      "#..#...#...#..#\n",
      "#.###.....###.#\n",
      "#.###########.#\n",
      "#..#########..#\n",
      ".##.#######.##.\n",
      "..#.#.#.#.#.#..\n",
      "...#########...\n"
     ]
    }
   ],
   "execution_count": 39
  },
  {
   "metadata": {
    "ExecuteTime": {
     "end_time": "2024-12-04T12:55:51.694073Z",
     "start_time": "2024-12-04T12:55:51.327542Z"
    }
   },
   "cell_type": "code",
   "source": [
    "row_constraints = [\n",
    "    [9], [1, 1, 1, 1, 1, 1], [2, 1, 1, 2], [1, 1, 1, 1, 1, 1, 1, 1], [1, 4, 4, 1],\n",
    "    [1, 5, 5, 1], [1, 1, 3, 3, 1, 1], [1, 2, 2, 1], [1, 1, 1, 1, 1], [1, 3, 3, 1],\n",
    "    [1, 11, 1], [1, 9, 1], [2, 7, 2], [1, 1, 1, 1, 1, 1], [9]\n",
    "]\n",
    "\n",
    "col_constraints = [\n",
    "    [9], [1, 1], [6, 2, 2], [1, 2, 4, 1], [2, 4, 6], [1, 4, 3, 1], [4, 3, 5], [1, 1, 3, 1],\n",
    "    [4, 3, 5], [1, 4, 3, 1], [2, 4, 6], [1, 2, 4, 1], [6, 2, 2], [1, 1], [9]\n",
    "]\n",
    "m, n = len(row_constraints), len(col_constraints)\n",
    "\n",
    "start_time = time.time()\n",
    "solve_nonogram_no_backtracking((m,n), row_constraints, col_constraints)\n",
    "end_time = time.time()\n",
    "print(end_time - start_time)\n"
   ],
   "id": "68276470c5501094",
   "outputs": [
    {
     "name": "stdout",
     "output_type": "stream",
     "text": [
      "0.36136507987976074\n"
     ]
    }
   ],
   "execution_count": 40
  },
  {
   "metadata": {
    "ExecuteTime": {
     "end_time": "2024-12-04T12:55:59.085159Z",
     "start_time": "2024-12-04T12:55:59.081537Z"
    }
   },
   "cell_type": "code",
   "source": [
    "\n",
    "row_constraints = [\n",
    "    [5, 1], [2, 2, 1], [1, 1, 1], [1, 1, 1, 1, 1], [1, 1, 1], [2, 2, 1], [5, 1],\n",
    "    [1], [1, 1, 1], [5, 1], [5, 1], [5, 1], [3, 1], [1, 2], [3]\n",
    "]\n",
    "col_constraints = [\n",
    "    [5], [2, 2], [1, 1, 1], [1, 1, 3], [1, 1, 1, 5], [2, 2, 5], [5, 5, 1], [3, 1], [2], [14]\n",
    "]\n",
    "\n",
    "m, n = len(row_constraints), len(col_constraints)"
   ],
   "id": "c131490ca6d24c8a",
   "outputs": [],
   "execution_count": 41
  },
  {
   "metadata": {
    "ExecuteTime": {
     "end_time": "2024-12-04T12:56:00.243998Z",
     "start_time": "2024-12-04T12:56:00.240747Z"
    }
   },
   "cell_type": "code",
   "source": [
    "def compute_time(row_constraints, col_constraints):\n",
    "    m, n = len(row_constraints), len(col_constraints)\n",
    "    start_time = time.time()\n",
    "    solution = solve_nonogram_no_backtracking((m,n), row_constraints, col_constraints)\n",
    "    end_time = time.time()\n",
    "    draw(solution)\n",
    "    return end_time - start_time"
   ],
   "id": "2b208834dc899543",
   "outputs": [],
   "execution_count": 42
  },
  {
   "metadata": {
    "ExecuteTime": {
     "end_time": "2024-12-04T12:56:01.813795Z",
     "start_time": "2024-12-04T12:56:01.672842Z"
    }
   },
   "cell_type": "code",
   "source": "compute_time(row_constraints, col_constraints)",
   "id": "dd091f44e0715b2a",
   "outputs": [
    {
     "name": "stdout",
     "output_type": "stream",
     "text": [
      ".#####...#\n",
      "##...##..#\n",
      "#.....#..#\n",
      "#.#.#.#..#\n",
      "#.....#..#\n",
      "##...##..#\n",
      ".#####...#\n",
      ".........#\n",
      "....#.#..#\n",
      "...#####.#\n",
      "...#####.#\n",
      "...#####.#\n",
      "....###..#\n",
      ".....#..##\n",
      "......###.\n"
     ]
    },
    {
     "data": {
      "text/plain": [
       "0.1383838653564453"
      ]
     },
     "execution_count": 43,
     "metadata": {},
     "output_type": "execute_result"
    }
   ],
   "execution_count": 43
  },
  {
   "metadata": {},
   "cell_type": "markdown",
   "source": "74114",
   "id": "22091471a15aea5d"
  },
  {
   "metadata": {},
   "cell_type": "markdown",
   "source": "73862  (14x15)",
   "id": "5a5c57e5970185db"
  },
  {
   "metadata": {
    "ExecuteTime": {
     "end_time": "2024-12-04T15:58:03.277345Z",
     "start_time": "2024-12-04T15:58:03.017976Z"
    }
   },
   "cell_type": "code",
   "source": [
    "row_constraints = [\n",
    "    [8,3], [7,4,2], [3,1,4,1,1], [1,1,3,2,1], [1,7], [2,5], [4,2], [2,5,1,2], [1,3,5], [1,1,4,1], [1,2,5,1], [2,1,1,2,1], [3,1,3,2], [5,4]\n",
    "]\n",
    "col_constraints = [\n",
    "    [2,7], [3,1,3], [4,2], [3,1,1], [2,1,2,1], [9], [2,4,1], [1,3,3,1], [4,2,2,1], \n",
    "    [5,5], [2,7,1], [1,4,4,1], [1,4,2,2,1], [2,2,3,2], [4,4]\n",
    "]\n",
    "compute_time(row_constraints, col_constraints)"
   ],
   "id": "fe6c079cf7585c54",
   "outputs": [
    {
     "name": "stdout",
     "output_type": "stream",
     "text": [
      "########....###\n",
      "#######.####.##\n",
      ".###.#.####.#.#\n",
      "..#..#.###.##.#\n",
      ".....#.#######.\n",
      ".....##..#####.\n",
      ".....####.##...\n",
      "##..#####.#.##.\n",
      "#....###.#####.\n",
      "#...#...####.#.\n",
      "#..##...#####.#\n",
      "##.....#.#.##.#\n",
      "###...#.###..##\n",
      "#####......####\n"
     ]
    },
    {
     "data": {
      "text/plain": [
       "0.2518641948699951"
      ]
     },
     "execution_count": 81,
     "metadata": {},
     "output_type": "execute_result"
    }
   ],
   "execution_count": 81
  },
  {
   "metadata": {},
   "cell_type": "markdown",
   "source": "73770  16x12",
   "id": "25d23d69b6b0bfe"
  },
  {
   "metadata": {
    "ExecuteTime": {
     "end_time": "2024-12-04T15:58:07.612427Z",
     "start_time": "2024-12-04T15:58:07.298658Z"
    }
   },
   "cell_type": "code",
   "source": [
    "row_constraints = [\n",
    "    [3], [5], [3,2], [7], [5], [3], [3], [6], [5,2], [7,2], [3,2],\n",
    "    [3,3], [7], [4], [1,1], [4]\n",
    "]\n",
    "col_constraints = [\n",
    "    [1], [2], [3], [5], [2,3], [4,3,4], [6,3,2,1], [9,4], [2,5,2,1], [4,7], [2,5], [1]\n",
    "]\n",
    "compute_time(row_constraints, col_constraints)"
   ],
   "id": "3f2dafabc7968c14",
   "outputs": [
    {
     "name": "stdout",
     "output_type": "stream",
     "text": [
      "......###...\n",
      ".....#####..\n",
      ".....###.##.\n",
      ".....#######\n",
      ".....#####..\n",
      "......###...\n",
      ".......###..\n",
      ".....######.\n",
      "...#####.##.\n",
      "#######..##.\n",
      ".###.....##.\n",
      "..###...###.\n",
      "...#######..\n",
      "....####....\n",
      ".....#.#....\n",
      ".....####...\n"
     ]
    },
    {
     "data": {
      "text/plain": [
       "0.2991368770599365"
      ]
     },
     "execution_count": 82,
     "metadata": {},
     "output_type": "execute_result"
    }
   ],
   "execution_count": 82
  },
  {
   "metadata": {},
   "cell_type": "markdown",
   "source": "73842 16x14",
   "id": "e635b35d51334b7e"
  },
  {
   "metadata": {
    "ExecuteTime": {
     "end_time": "2024-12-04T13:13:28.487014Z",
     "start_time": "2024-12-04T13:13:28.033123Z"
    }
   },
   "cell_type": "code",
   "source": [
    "row_constraints = [\n",
    "    [10], [12], [3,3], [2,1,2,1,2], [1,2,3], [3,5,2], [7], [3,4,1], [1,4], [2,5],\n",
    "    [3,2], [2,1], [2,1], [4], [2], [2]\n",
    "]\n",
    "col_constraints = [\n",
    "    [2], [3,1], [3,4], [2,1,5], [2,2,3], [2,1,2,4], [2,5,2,4],\n",
    "    [2,6,3], [2,6,2], [2,2,5], [2,2,2], [3,2,1], [3,1], [2]\n",
    "]\n",
    "compute_time(row_constraints, col_constraints)"
   ],
   "id": "3d9666f34c7cee67",
   "outputs": [
    {
     "name": "stdout",
     "output_type": "stream",
     "text": [
      "..##########..\n",
      ".############.\n",
      "###........###\n",
      "##.#.##...#.##\n",
      "..#...##.###..\n",
      ".###.#####.##.\n",
      "..#######.....\n",
      "..###.####.#..\n",
      "...#...####...\n",
      "...##.#####...\n",
      "....###.##....\n",
      "....##...#....\n",
      ".....##.#.....\n",
      ".....####.....\n",
      "......##......\n",
      "......##......\n"
     ]
    },
    {
     "data": {
      "text/plain": [
       "0.44948601722717285"
      ]
     },
     "execution_count": 49,
     "metadata": {},
     "output_type": "execute_result"
    }
   ],
   "execution_count": 49
  },
  {
   "metadata": {},
   "cell_type": "markdown",
   "source": "73788 17x17",
   "id": "8ccd0395f70e9260"
  },
  {
   "metadata": {
    "ExecuteTime": {
     "end_time": "2024-12-04T15:58:36.178743Z",
     "start_time": "2024-12-04T15:58:34.591613Z"
    }
   },
   "cell_type": "code",
   "source": [
    "row_constraints = [\n",
    "    [7], [9], [9], [13], [12], [11], [6,1], [4,2,1], [2,1,2], [1,1,1], [1,2,3], [2,3,2,1], [1,5,2], [5,3], [5,3], [4,2], [2,2] \n",
    "]\n",
    "col_constraints = [\n",
    "    [1], [1], [2], [8], [6,1,1,4], [7,5], [7,3], [7,5], [6,5], \n",
    "    [6,1,3], [6,3,1], [6,2], [5,4], [6, 1, 3], [2,5], [1,4], [1,2]\n",
    "]\n",
    "compute_time(row_constraints, col_constraints)"
   ],
   "id": "7ad524587e8dd506",
   "outputs": [
    {
     "name": "stdout",
     "output_type": "stream",
     "text": [
      ".....#######.....\n",
      "....#########....\n",
      "....#########....\n",
      "....#############\n",
      "...############..\n",
      "...###########...\n",
      "..######.....#...\n",
      "####.....##..#...\n",
      "...##.....#.##...\n",
      "...#......#.#....\n",
      "...#....##..###..\n",
      "...##..###.##.#..\n",
      ".....#.#####.##..\n",
      "....#####....###.\n",
      "....#####....###.\n",
      "....####.......##\n",
      "....##.........##\n"
     ]
    },
    {
     "data": {
      "text/plain": [
       "1.583857774734497"
      ]
     },
     "execution_count": 83,
     "metadata": {},
     "output_type": "execute_result"
    }
   ],
   "execution_count": 83
  },
  {
   "metadata": {},
   "cell_type": "markdown",
   "source": "72956 20x17",
   "id": "f62bea1e21557009"
  },
  {
   "metadata": {
    "ExecuteTime": {
     "end_time": "2024-12-04T15:58:54.807393Z",
     "start_time": "2024-12-04T15:58:46.701985Z"
    }
   },
   "cell_type": "code",
   "source": [
    "row_constraints = [\n",
    "    [6,2,4], [3,2,1,1,4], [3,2,1,1,1], [4,1,2,2,2], [3,1,1,2], [1,1,1,1], [1,1,2,3], [1,4,1,2,1], [1,1,3,4], [1,2,2,3], [1,1,1,2,1,3], [1,3,1,2,4], [1,1,1,5], [2,8,3], [3,3,2], [6,1,1], [1,4,2,1,2], [2,4,4], [2,2,1,4], [5,4]\n",
    "]\n",
    "col_constraints = [\n",
    "    [4,9], [4,1,1,3,2], [6,1,1,1,3,2], [2,1,1,1,2,1], [1,1,1,1,1,1,2,1], [3,3,1,4,1], [2,3,1,2,2,2], [1,2,1,3,2], [2,1,1,1,1,2], [5,2,1,1,2], [1,4,2,1], [1,1,2,1,1], [1,1,1,2,1,1], [4,3,3,4], [2,2,6,3], [2,1,1,5,4], [4,5,4]\n",
    "]\n",
    "compute_time(row_constraints, col_constraints)"
   ],
   "id": "de307b5588f86576",
   "outputs": [
    {
     "name": "stdout",
     "output_type": "stream",
     "text": [
      "..######.##..####\n",
      ".###.##..#.#.####\n",
      "###.##...#...#..#\n",
      "####..#.##..##.##\n",
      "###.#.#.##.......\n",
      "#.#...#.......#..\n",
      ".#...#.##....###.\n",
      "..#.####.#..##..#\n",
      ".#...#..###..####\n",
      "#.....##..##..###\n",
      "#.#...#..##.#.###\n",
      "#..###..#.##.####\n",
      "#.#....#...#####.\n",
      "##.########.###..\n",
      "###..###..##.....\n",
      "######......#...#\n",
      "#.####..##...#.##\n",
      "##.....####..####\n",
      ".##...##...#.####\n",
      "..#####.....####.\n"
     ]
    },
    {
     "data": {
      "text/plain": [
       "8.099264144897461"
      ]
     },
     "execution_count": 84,
     "metadata": {},
     "output_type": "execute_result"
    }
   ],
   "execution_count": 84
  },
  {
   "metadata": {},
   "cell_type": "markdown",
   "source": "10040 14x14",
   "id": "f12cb2db15693827"
  },
  {
   "metadata": {
    "ExecuteTime": {
     "end_time": "2024-12-04T14:10:37.005Z",
     "start_time": "2024-12-04T14:10:36.837781Z"
    }
   },
   "cell_type": "code",
   "source": [
    "row_constraints = [\n",
    "    [4], [8], [10], [12], [12], [3,2,3], [4,2,4], [14], [14], \n",
    "    [2,2,2,2], [1,2,2,2,1], [14], [4,4,4], [2,2,2]\n",
    "]\n",
    "col_constraints = [\n",
    "    [7], [7,3], [7,4], [8,3], [4,3,1], [5,3,2], [9,4], [9,4], [5,3,2], [4,3,1], [8,3], [7,4], [7,3], [7]\n",
    "]\n",
    "compute_time(row_constraints, col_constraints)"
   ],
   "id": "7c21334098095511",
   "outputs": [
    {
     "name": "stdout",
     "output_type": "stream",
     "text": [
      ".....####.....\n",
      "...########...\n",
      "..##########..\n",
      ".############.\n",
      ".############.\n",
      ".###..##..###.\n",
      "####..##..####\n",
      "##############\n",
      "##############\n",
      "##..##..##..##\n",
      "#.##..##..##.#\n",
      "##############\n",
      "####.####.####\n",
      ".##...##...##.\n"
     ]
    },
    {
     "data": {
      "text/plain": [
       "0.16190719604492188"
      ]
     },
     "execution_count": 56,
     "metadata": {},
     "output_type": "execute_result"
    }
   ],
   "execution_count": 56
  },
  {
   "metadata": {},
   "cell_type": "markdown",
   "source": "8824 13x13",
   "id": "cf1194ebc23c99da"
  },
  {
   "metadata": {
    "ExecuteTime": {
     "end_time": "2024-12-04T14:15:59.060472Z",
     "start_time": "2024-12-04T14:15:58.970324Z"
    }
   },
   "cell_type": "code",
   "source": [
    "row_constraints = [\n",
    "    [5], [7], [2,1,6], [3,1,5], [1,5], [2,5], [1,7], [3,1,5], [1,1,5], [2,4], [7], [2,2], [2,2]\n",
    "]\n",
    "col_constraints = [\n",
    "    [2], [3], [1,1,2], [2,1,1], [2,1,4], [3,2,1], [4,2,3], [7,2], \n",
    "    [9,1,1], [12], [10], [7], [4]\n",
    "]\n",
    "compute_time(row_constraints, col_constraints)"
   ],
   "id": "cf70032e2017781f",
   "outputs": [
    {
     "name": "stdout",
     "output_type": "stream",
     "text": [
      "....#####....\n",
      "...#######...\n",
      "##.#.######..\n",
      "###.#.#####..\n",
      ".#.....#####.\n",
      "..##...#####.\n",
      "....#.#######\n",
      "..###.#.#####\n",
      "..#.#...#####\n",
      "....##...####\n",
      ".....#######.\n",
      "......##.##..\n",
      ".....##.##...\n"
     ]
    },
    {
     "data": {
      "text/plain": [
       "0.08646297454833984"
      ]
     },
     "execution_count": 57,
     "metadata": {},
     "output_type": "execute_result"
    }
   ],
   "execution_count": 57
  },
  {
   "metadata": {},
   "cell_type": "markdown",
   "source": "8612 11x11",
   "id": "a59a57c1892faa2a"
  },
  {
   "metadata": {
    "ExecuteTime": {
     "end_time": "2024-12-04T14:18:37.953398Z",
     "start_time": "2024-12-04T14:18:37.923473Z"
    }
   },
   "cell_type": "code",
   "source": [
    "row_constraints = [\n",
    "    [5], [9], [2,1,1,1,2], [1,1,1,1,1], [11], [1], [1], [1], [1], [1,1], [3]\n",
    "]\n",
    "col_constraints = [\n",
    "    [3], [2,1], [1, 2], [3,1], [2,1], [11], [2,1,1], [3,1,2], [1,2], [2,1], [3]\n",
    "]\n",
    "compute_time(row_constraints, col_constraints)"
   ],
   "id": "fb2fbf9a67dedcae",
   "outputs": [
    {
     "name": "stdout",
     "output_type": "stream",
     "text": [
      "...#####...\n",
      ".#########.\n",
      "##.#.#.#.##\n",
      "#.#..#..#.#\n",
      "###########\n",
      ".....#.....\n",
      ".....#.....\n",
      ".....#.....\n",
      ".....#.....\n",
      ".....#.#...\n",
      ".....###...\n"
     ]
    },
    {
     "data": {
      "text/plain": [
       "0.02567291259765625"
      ]
     },
     "execution_count": 59,
     "metadata": {},
     "output_type": "execute_result"
    }
   ],
   "execution_count": 59
  },
  {
   "metadata": {},
   "cell_type": "markdown",
   "source": "22501 15x14",
   "id": "5ec38dabf68cfc07"
  },
  {
   "metadata": {
    "ExecuteTime": {
     "end_time": "2024-12-04T14:22:23.379510Z",
     "start_time": "2024-12-04T14:22:23.094831Z"
    }
   },
   "cell_type": "code",
   "source": [
    "row_constraints = [\n",
    "    [5], [4,2], [1,4,1], [1,4,4], [4,1,1,1], [5,4,1], [1,2,2,2,1], \n",
    "    [1,2,3], [4,3], [1,1,3], [1,1,3], [1,1,4], [1,7], [2,1], [5]\n",
    "]\n",
    "col_constraints = [\n",
    "    [5], [1,2,1], [7,3], [7,1,2] ,[4,1,3,1], [1,3,2,1,1], [2,2,1,1], [6,1,1], [1,1,1,1], [1,1,1,1], [1,2,2,1], [1,8], [1,6], [6]\n",
    "]\n",
    "compute_time(row_constraints, col_constraints)"
   ],
   "id": "f707284793b7a0cf",
   "outputs": [
    {
     "name": "stdout",
     "output_type": "stream",
     "text": [
      "..#####.......\n",
      ".####.##......\n",
      "#.####.#......\n",
      "#.####.####...\n",
      "####.#.#...#..\n",
      "#####..####.#.\n",
      "#.##..##..##.#\n",
      ".#...##....###\n",
      "..####.....###\n",
      "..#.#......###\n",
      "..#.#......###\n",
      "...#.#....####\n",
      "...#..#######.\n",
      "....##.....#..\n",
      "......#####...\n"
     ]
    },
    {
     "data": {
      "text/plain": [
       "0.2803788185119629"
      ]
     },
     "execution_count": 61,
     "metadata": {},
     "output_type": "execute_result"
    }
   ],
   "execution_count": 61
  },
  {
   "metadata": {},
   "cell_type": "markdown",
   "source": "21054 14x12",
   "id": "94acbee081e99416"
  },
  {
   "metadata": {
    "ExecuteTime": {
     "end_time": "2024-12-04T14:29:33.785939Z",
     "start_time": "2024-12-04T14:29:33.657363Z"
    }
   },
   "cell_type": "code",
   "source": [
    "row_constraints = [\n",
    "    [1,1,1], [4,1,1], [1,1,1,1,1], [1,1,1,2], [1,1,3,2], [8,1], [1,1,4,1],[4,3], [4,2,1], [2,1,1], [3,1,1], [2,1], [2], [1]\n",
    "]\n",
    "col_constraints = [\n",
    "    [2], [1,1,1,2], [1,1,1,1,2], [2,3,3], [2,1,1,5], [1,5], [1,6,1], [1,6], [1,2,2,1,1], [1,1,1,1,1], [1,1,3], [2,1]\n",
    "]\n",
    "compute_time(row_constraints, col_constraints)"
   ],
   "id": "a9bb4006d985f943",
   "outputs": [
    {
     "name": "stdout",
     "output_type": "stream",
     "text": [
      "....#.#.#...\n",
      "..####.#.#..\n",
      ".#.#..#.#.#.\n",
      "..#.#.#.##..\n",
      ".#.#.###..##\n",
      "..########.#\n",
      ".#.#.####.#.\n",
      "....####.###\n",
      "..####.##.#.\n",
      "...##..#.#..\n",
      "..###.#.#...\n",
      ".##.#.......\n",
      "##..........\n",
      "#...........\n"
     ]
    },
    {
     "data": {
      "text/plain": [
       "0.12435507774353027"
      ]
     },
     "execution_count": 65,
     "metadata": {},
     "output_type": "execute_result"
    }
   ],
   "execution_count": 65
  },
  {
   "metadata": {},
   "cell_type": "markdown",
   "source": "23176 11x20",
   "id": "45d8b48ce62a7a3d"
  },
  {
   "metadata": {
    "ExecuteTime": {
     "end_time": "2024-12-04T14:37:14.201979Z",
     "start_time": "2024-12-04T14:37:09.797993Z"
    }
   },
   "cell_type": "code",
   "source": [
    "row_constraints = [\n",
    "    [1,3], [1,2,1,1], [4,1,3], [1,3,2,1], [6,5], [2,12], [1,1,2,12], [6,10, 1], [17], [1,2,1,2], [1,2,1,2]\n",
    "]\n",
    "col_constraints = [\n",
    "    [1], [1], [2], [3], [1,2], [4,1], [2,4], [1,2,1,1], [10], [8], [9], [1,5], [1,4], [1,1,4,1], [1,5], [1,5,1], [9], [9], [1, 3, 1], [2,2]\n",
    "]\n",
    "compute_time(row_constraints, col_constraints)\n"
   ],
   "id": "d105e5714b084673",
   "outputs": [
    {
     "name": "stdout",
     "output_type": "stream",
     "text": [
      "..........#.###.....\n",
      "........#.##...#.#..\n",
      ".......####..#..###.\n",
      "......#.###.....##.#\n",
      "......######...#####\n",
      "....##.############.\n",
      "#..#.##.############\n",
      ".######.##########.#\n",
      "..#################.\n",
      "......#.##....#.##..\n",
      ".....#.##....#.##...\n"
     ]
    },
    {
     "data": {
      "text/plain": [
       "4.399397850036621"
      ]
     },
     "execution_count": 66,
     "metadata": {},
     "output_type": "execute_result"
    }
   ],
   "execution_count": 66
  },
  {
   "metadata": {},
   "cell_type": "markdown",
   "source": "22867 14x14",
   "id": "88cffeb263e1798f"
  },
  {
   "metadata": {
    "ExecuteTime": {
     "end_time": "2024-12-04T23:20:37.152127Z",
     "start_time": "2024-12-04T23:20:36.976777Z"
    }
   },
   "cell_type": "code",
   "source": [
    "row_constraints = [\n",
    "    [1,6,1], [3,4,3], [3,4,3], [4,4], [1,1,1,1], [4,1,1,4], [4,1,1,4], [4,4], [4,2,2,1], [5,3,1], [4,4,3], [3,2], [3,1,1,1,1], [3,1,1,1,1]\n",
    "]\n",
    "col_constraints = [\n",
    "    [1,10], [3,9], [3,9], [10], [1,1,1,2], [3,2,1], [3,1,1], [3,1,1], [3,2,1], [1,1,1,2], [10], [3,9], [3,3,2], [1,6,2]\n",
    "]\n",
    "compute_time(row_constraints, col_constraints)"
   ],
   "id": "974f3851757241b3",
   "outputs": [
    {
     "name": "stdout",
     "output_type": "stream",
     "text": [
      "#...######...#\n",
      ".###.####.###.\n",
      ".###.####.###.\n",
      ".####....####.\n",
      "#..#......#..#\n",
      "####.#..#.####\n",
      "####.#..#.####\n",
      "####......####\n",
      "####..##..##.#\n",
      "#####....###.#\n",
      "####.####.###.\n",
      "###........##.\n",
      "###.#....#.#.#\n",
      "###.#....#.#.#\n"
     ]
    },
    {
     "data": {
      "text/plain": [
       "0.17143702507019043"
      ]
     },
     "execution_count": 153,
     "metadata": {},
     "output_type": "execute_result"
    }
   ],
   "execution_count": 153
  },
  {
   "metadata": {},
   "cell_type": "markdown",
   "source": "25992 15x14",
   "id": "d38cd06c3369f430"
  },
  {
   "metadata": {
    "ExecuteTime": {
     "end_time": "2024-12-04T14:42:59.944380Z",
     "start_time": "2024-12-04T14:42:59.674968Z"
    }
   },
   "cell_type": "code",
   "source": [
    "row_constraints = [\n",
    "    [3], [1,2], [7], [1,2], [2], [2], [2,4], [3,3,1], [6,3], [4,1,2,1], [3,2,1], [2,1,1], [3,2], [3,2], [9]\n",
    "]\n",
    "col_constraints = [\n",
    "    [1,4], [1,6], [4,4,3], [1,1,4,2], [3,5,1], [5,2,1], [2,2,1], [1,1], [2,1], [1,2,1], [1,2,2], [4,2], [1,2], [3]\n",
    "]\n",
    "compute_time(row_constraints, col_constraints)"
   ],
   "id": "42f6228f4a306d01",
   "outputs": [
    {
     "name": "stdout",
     "output_type": "stream",
     "text": [
      "..###.........\n",
      "..#.##........\n",
      "#######.......\n",
      "..#..##.......\n",
      "....##........\n",
      "....##........\n",
      "...##...####..\n",
      "..###.###..#..\n",
      ".######....###\n",
      "####.#....##.#\n",
      "###......##..#\n",
      "##.......#..#.\n",
      "###........##.\n",
      ".###......##..\n",
      "..#########...\n"
     ]
    },
    {
     "data": {
      "text/plain": [
       "0.2649810314178467"
      ]
     },
     "execution_count": 69,
     "metadata": {},
     "output_type": "execute_result"
    }
   ],
   "execution_count": 69
  },
  {
   "metadata": {},
   "cell_type": "markdown",
   "source": "27390 15x10",
   "id": "ff851690270d1d9c"
  },
  {
   "metadata": {
    "ExecuteTime": {
     "end_time": "2024-12-04T14:51:17.985966Z",
     "start_time": "2024-12-04T14:51:17.858377Z"
    }
   },
   "cell_type": "code",
   "source": [
    "row_constraints = [\n",
    "    [8], [10], [4,5], [1,4], [1,1,3], [1,3], [2,4], [7], [5,1], [1,3], [3,2,3], [2,2,3], [1,2,1,2], [2,1,1], [2,1,2]\n",
    "]\n",
    "col_constraints = [\n",
    "    [2,1,3,1], [4,1,2,2,2], [3,1,3,1,2], [3,4,2], [2,1,2,2,1],\n",
    "    [3,2,2,1,1], [4,2,1,1], [12], [7,3,1], [5,3,1]\n",
    "]\n",
    "compute_time(row_constraints, col_constraints)"
   ],
   "id": "64ea1e9c729010a7",
   "outputs": [
    {
     "name": "stdout",
     "output_type": "stream",
     "text": [
      ".########.\n",
      "##########\n",
      "####.#####\n",
      ".#....####\n",
      "..#.#..###\n",
      ".#.....###\n",
      "..##.####.\n",
      ".#######..\n",
      "#####..#..\n",
      "...#.###..\n",
      "###.##.###\n",
      "##.##..###\n",
      "#.##.#..##\n",
      ".##.#.#...\n",
      "##...#..##\n"
     ]
    },
    {
     "data": {
      "text/plain": [
       "0.12304186820983887"
      ]
     },
     "execution_count": 70,
     "metadata": {},
     "output_type": "execute_result"
    }
   ],
   "execution_count": 70
  },
  {
   "metadata": {},
   "cell_type": "markdown",
   "source": "28290 20x10",
   "id": "477938cd186a06c3"
  },
  {
   "metadata": {
    "ExecuteTime": {
     "end_time": "2024-12-04T15:00:51.375124Z",
     "start_time": "2024-12-04T15:00:47.339663Z"
    }
   },
   "cell_type": "code",
   "source": [
    "row_constraints = [\n",
    "    [2,1,2], [1,1,1,1], [1,1], [5], [3,1], [4,2], [3,1], [2,1],\n",
    "    [5], [3,1] ,[2,1,3], [2,1,3,1], [1,1,2], [7], [2,1], [1,1], [2], [1], [1], [1]\n",
    "]\n",
    "col_constraints = [\n",
    "    [2,8,2], [1,10,2], [1,4,2, 1], [1,3,1,1,1], [1,1,2,2], [1,4,1,2,4], [2,2,1,1,4], [4], [1,1], [2]\n",
    "]\n",
    "compute_time(row_constraints, col_constraints)"
   ],
   "id": "649e8d8f08a1410e",
   "outputs": [
    {
     "name": "stdout",
     "output_type": "stream",
     "text": [
      "##.#.##...\n",
      "#.#.#.#...\n",
      ".#...#....\n",
      ".#####....\n",
      ".###.#....\n",
      "####.##...\n",
      "###...#...\n",
      "##...#....\n",
      "#####.....\n",
      "###.#.....\n",
      "##...#.###\n",
      "##.#.###.#\n",
      "#...#..##.\n",
      ".#######..\n",
      "##...#....\n",
      "#....#....\n",
      ".....##...\n",
      "......#...\n",
      "......#...\n",
      "......#...\n"
     ]
    },
    {
     "data": {
      "text/plain": [
       "4.031236886978149"
      ]
     },
     "execution_count": 73,
     "metadata": {},
     "output_type": "execute_result"
    }
   ],
   "execution_count": 73
  },
  {
   "metadata": {},
   "cell_type": "markdown",
   "source": "16. 28999 15x9",
   "id": "309a002e85241890"
  },
  {
   "metadata": {
    "ExecuteTime": {
     "end_time": "2024-12-04T15:05:00.358166Z",
     "start_time": "2024-12-04T15:05:00.248231Z"
    }
   },
   "cell_type": "code",
   "source": [
    "row_constraints = [\n",
    "    [1,1], [1,1], [1,1], [1,1], [1,1], [3,3], [3,3], [4,4], [7], [5], [0], [5], [5], [3], [1]\n",
    "]\n",
    "col_constraints = [\n",
    "    [3], [8], [1,5,2], [3,3], [2,4], [3,3], [1,5,2], [8], [3]\n",
    "]\n",
    "compute_time(row_constraints, col_constraints)"
   ],
   "id": "a5f1f8c31156a511",
   "outputs": [
    {
     "name": "stdout",
     "output_type": "stream",
     "text": [
      "..#...#..\n",
      ".#.....#.\n",
      ".#.....#.\n",
      ".#.....#.\n",
      ".#.....#.\n",
      "###...###\n",
      "###...###\n",
      "####.####\n",
      ".#######.\n",
      "..#####..\n",
      ".........\n",
      "..#####..\n",
      "..#####..\n",
      "...###...\n",
      "....#....\n"
     ]
    },
    {
     "data": {
      "text/plain": [
       "0.10718894004821777"
      ]
     },
     "execution_count": 75,
     "metadata": {},
     "output_type": "execute_result"
    }
   ],
   "execution_count": 75
  },
  {
   "metadata": {},
   "cell_type": "markdown",
   "source": "28860 15x14",
   "id": "7cc6a7d4e76ce66e"
  },
  {
   "metadata": {
    "ExecuteTime": {
     "end_time": "2024-12-04T15:09:08.428609Z",
     "start_time": "2024-12-04T15:09:08.084240Z"
    }
   },
   "cell_type": "code",
   "source": [
    "row_constraints = [\n",
    "    [1], [2,1], [4,4], [5,5], [5,2,3], [5,6], [1,3,6], [2,6], [2,6], [12], [11], [9], [10], [9], [10]\n",
    "]\n",
    "col_constraints = [\n",
    "    [5,4], [5,6], [14], [6,6], [4,7], [8], [9], [10], [15], [9,3], [2,3,2,1], [5,1,1], [3], [1]\n",
    "]\n",
    "compute_time(row_constraints, col_constraints)"
   ],
   "id": "8c39e29361db40a1",
   "outputs": [
    {
     "name": "stdout",
     "output_type": "stream",
     "text": [
      "........#.....\n",
      ".##.....#.....\n",
      "####....####..\n",
      "#####...#####.\n",
      "#####...##.###\n",
      "#####..######.\n",
      "#.###.######..\n",
      "..##.######...\n",
      ".##.######....\n",
      "############..\n",
      "###########...\n",
      "#########.....\n",
      "##########....\n",
      ".#########....\n",
      "..##########..\n"
     ]
    },
    {
     "data": {
      "text/plain": [
       "0.33782196044921875"
      ]
     },
     "execution_count": 76,
     "metadata": {},
     "output_type": "execute_result"
    }
   ],
   "execution_count": 76
  },
  {
   "metadata": {},
   "cell_type": "markdown",
   "source": "18. 28799 11x15",
   "id": "c494955bd7f4a3ab"
  },
  {
   "metadata": {
    "ExecuteTime": {
     "end_time": "2024-12-04T15:11:59.239545Z",
     "start_time": "2024-12-04T15:11:59.086380Z"
    }
   },
   "cell_type": "code",
   "source": [
    "row_constraints = [\n",
    "    [15], [1,12], [6,3], [2,2,2], [3,1,1,2,1], [1,2,1,1,2], [3,1,1,4], [5,2,5], [1,1,2,1,1], [1,1], [15]\n",
    "]\n",
    "col_constraints = [\n",
    "    [2,1,3], [1,1,1], [1,2,1], [3,4,1], [8,1], [5,2,1], [3,2,1],\n",
    "    [5,2,1], [4,3,1], [2,2,1], [4,3,1], [8,1], [3,4,1], [2,2,1],\n",
    "    [2,1,4]\n",
    "]\n",
    "compute_time(row_constraints, col_constraints)"
   ],
   "id": "233025ee4b8940f",
   "outputs": [
    {
     "name": "stdout",
     "output_type": "stream",
     "text": [
      "###############\n",
      "#..############\n",
      "...######.###..\n",
      "....##.##.##...\n",
      "...###.#.#.##.#\n",
      "#..##.#..#.##..\n",
      "..###.#.#.####.\n",
      ".#####.##.#####\n",
      "#....#.##.#...#\n",
      "#.............#\n",
      "###############\n"
     ]
    },
    {
     "data": {
      "text/plain": [
       "0.1494889259338379"
      ]
     },
     "execution_count": 77,
     "metadata": {},
     "output_type": "execute_result"
    }
   ],
   "execution_count": 77
  },
  {
   "metadata": {},
   "cell_type": "markdown",
   "source": "19. 28688 12x14",
   "id": "471c758303367917"
  },
  {
   "metadata": {
    "ExecuteTime": {
     "end_time": "2024-12-04T15:14:56.260683Z",
     "start_time": "2024-12-04T15:14:56.148046Z"
    }
   },
   "cell_type": "code",
   "source": [
    "row_constraints = [\n",
    "    [3], [3,1,4], [1,1,1,1,1], [1,1,1,1,3], [1,1,1,1], [7,2,1],\n",
    "    [1,2,3], [1,1], [1,2], [1,4,3], [1,1,1,1,1], [1,1,1,1,1]\n",
    "]\n",
    "col_constraints = [\n",
    "    [10], [1,1], [1,1,1,2], [2,1,1,1], [1,1], [1,3], [5], [1,1,2], \n",
    "    [1,2,1,1], [6,3], [1,3,1], [1,1,1], [3,1], [3]\n",
    "]\n",
    "compute_time(row_constraints, col_constraints)"
   ],
   "id": "238e830e9109e680",
   "outputs": [
    {
     "name": "stdout",
     "output_type": "stream",
     "text": [
      ".......###....\n",
      ".###..#..####.\n",
      "#..#..#..#..#.\n",
      "#.#...#..#.###\n",
      "#.....#..#...#\n",
      "#######.##...#\n",
      "#......##.###.\n",
      "#.........#...\n",
      "#........##...\n",
      "#.####.###....\n",
      "#.#..#.#.#....\n",
      "#..#.#..#.#...\n"
     ]
    },
    {
     "data": {
      "text/plain": [
       "0.10926103591918945"
      ]
     },
     "execution_count": 78,
     "metadata": {},
     "output_type": "execute_result"
    }
   ],
   "execution_count": 78
  },
  {
   "metadata": {},
   "cell_type": "markdown",
   "source": "20. 69300 14x19",
   "id": "365a6e922dbba51a"
  },
  {
   "metadata": {
    "ExecuteTime": {
     "end_time": "2024-12-04T16:10:42.684082Z",
     "start_time": "2024-12-04T16:10:39.931246Z"
    }
   },
   "cell_type": "code",
   "source": [
    "row_constraints = [\n",
    "    [2], [2,3], [2,3],[4], [4,5], [5,8], [2,13], [12,4,1], [11,7], [2,6,7], [6,6], [3,2,4], [3,4], [3,7]\n",
    "]\n",
    "col_constraints = [\n",
    "    [2], [1,4], [3,6] ,[5,2,1], [6,2], [12], [3,8], [2,6], [1,6] ,\n",
    "    [7,1], [8,1], [4,3], [3,3,2], [10], [9], [7,1], [6], [3], [3]\n",
    "]\n",
    "compute_time(row_constraints, col_constraints)"
   ],
   "id": "bae7aaec22c87dd1",
   "outputs": [
    {
     "name": "stdout",
     "output_type": "stream",
     "text": [
      ".##................\n",
      "..##..###..........\n",
      "..##.###...........\n",
      "...####............\n",
      "..####...#####.....\n",
      "..#####.########...\n",
      ".##.#############..\n",
      "############.####.#\n",
      "###########.#######\n",
      ".##..######.#######\n",
      ".....######.######.\n",
      ".....###..##.####..\n",
      "....###....####....\n",
      "...###...#######...\n"
     ]
    },
    {
     "data": {
      "text/plain": [
       "2.7488207817077637"
      ]
     },
     "execution_count": 91,
     "metadata": {},
     "output_type": "execute_result"
    }
   ],
   "execution_count": 91
  },
  {
   "metadata": {
    "ExecuteTime": {
     "end_time": "2024-12-04T21:22:51.708465Z",
     "start_time": "2024-12-04T21:22:51.700961Z"
    }
   },
   "cell_type": "code",
   "source": [
    "row_constraints = [\n",
    "    [1,3], [3,1], [1,5,2], [1,7], [10], [6,2], [3,1], [3]\n",
    "]\n",
    "\n",
    "col_constraints = [\n",
    "    [1,1], [1,3], [1,2], [6], [8], [8], [1,4,1], [2], [4], [6]\n",
    "]\n",
    "\n",
    "compute_time(row_constraints, col_constraints)\n"
   ],
   "id": "b28272d6387e552",
   "outputs": [
    {
     "name": "stdout",
     "output_type": "stream",
     "text": [
      ".#..###...\n",
      "...###...#\n",
      "#.#####.##\n",
      ".#.#######\n",
      "##########\n",
      ".######.##\n",
      "...###...#\n",
      "....###...\n"
     ]
    },
    {
     "data": {
      "text/plain": [
       "0.00432896614074707"
      ]
     },
     "execution_count": 151,
     "metadata": {},
     "output_type": "execute_result"
    }
   ],
   "execution_count": 151
  },
  {
   "metadata": {},
   "cell_type": "code",
   "outputs": [],
   "execution_count": null,
   "source": "",
   "id": "a5a5e63aff5e7e4a"
  }
 ],
 "metadata": {
  "kernelspec": {
   "display_name": "Python 3",
   "language": "python",
   "name": "python3"
  },
  "language_info": {
   "codemirror_mode": {
    "name": "ipython",
    "version": 2
   },
   "file_extension": ".py",
   "mimetype": "text/x-python",
   "name": "python",
   "nbconvert_exporter": "python",
   "pygments_lexer": "ipython2",
   "version": "2.7.6"
  }
 },
 "nbformat": 4,
 "nbformat_minor": 5
}
